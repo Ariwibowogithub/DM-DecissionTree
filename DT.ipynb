{
  "nbformat": 4,
  "nbformat_minor": 0,
  "metadata": {
    "colab": {
      "provenance": []
    },
    "kernelspec": {
      "name": "python3",
      "display_name": "Python 3"
    },
    "language_info": {
      "name": "python"
    }
  },
  "cells": [
    {
      "cell_type": "code",
      "execution_count": 1,
      "metadata": {
        "id": "QUFN9S7NhmG_"
      },
      "outputs": [],
      "source": [
        "\n",
        "#Import Library Scikit Learn untuk Decision Tree, Dataset & Matplotlib\n",
        "from sklearn.tree import DecisionTreeClassifier\n",
        "from sklearn import datasets\n",
        "import matplotlib.pyplot as plt"
      ]
    },
    {
      "cell_type": "markdown",
      "source": [],
      "metadata": {
        "id": "_0bk5JCSgKO2"
      }
    },
    {
      "cell_type": "code",
      "source": [
        "#Load Dataset Iris dari library scikit learn\n",
        "iris = datasets.load_iris()\n",
        "features = iris['data']\n",
        "target = iris['target']\n"
      ],
      "metadata": {
        "id": "cBLz4RiWJZqO"
      },
      "execution_count": 9,
      "outputs": []
    },
    {
      "cell_type": "code",
      "source": [
        "# membuat object model target decission Tree\n",
        "decissiontree = DecisionTreeClassifier(random_state=0, max_depth=None,\n",
        "                                       min_samples_split=2, min_samples_leaf=1,\n",
        "                                       min_weight_fraction_leaf=0, max_leaf_nodes=None,\n",
        "                                       min_impurity_decrease=0)"
      ],
      "metadata": {
        "id": "jKBYKCB1Z0JV"
      },
      "execution_count": 10,
      "outputs": []
    },
    {
      "cell_type": "code",
      "source": [
        "# mentrainning model decissoon tree\n",
        "model = decissiontree.fit (features, target)"
      ],
      "metadata": {
        "id": "Hif8q2xkamBx"
      },
      "execution_count": 11,
      "outputs": []
    },
    {
      "cell_type": "code",
      "source": [
        "# mengambil sample observasi dan membuat prediksi\n",
        "#Sample berupa data dimensi kelopak\n",
        "# Fungsi predict() => memeriksa kelas yang dimiliki"
      ],
      "metadata": {
        "id": "hm_TYXxNaws4"
      },
      "execution_count": null,
      "outputs": []
    },
    {
      "cell_type": "code",
      "source": [
        "iris['feature_names']"
      ],
      "metadata": {
        "colab": {
          "base_uri": "https://localhost:8080/"
        },
        "id": "s4hcFdlqJmn2",
        "outputId": "28561488-eaae-463c-c945-b89db579b110"
      },
      "execution_count": 6,
      "outputs": [
        {
          "output_type": "execute_result",
          "data": {
            "text/plain": [
              "['sepal length (cm)',\n",
              " 'sepal width (cm)',\n",
              " 'petal length (cm)',\n",
              " 'petal width (cm)']"
            ]
          },
          "metadata": {},
          "execution_count": 6
        }
      ]
    },
    {
      "cell_type": "markdown",
      "source": [
        "# Bagian Baru"
      ],
      "metadata": {
        "id": "-uvusb47iESe"
      }
    }
  ]
}